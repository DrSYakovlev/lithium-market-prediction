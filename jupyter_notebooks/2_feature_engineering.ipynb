{
 "cells": [
  {
   "cell_type": "markdown",
   "metadata": {},
   "source": [
    "# 2. Feature engineering"
   ]
  },
  {
   "cell_type": "markdown",
   "metadata": {},
   "source": [
    "### Objectives\n",
    "Use technical analysis to add features to a dataset"
   ]
  },
  {
   "cell_type": "markdown",
   "metadata": {},
   "source": [
    "### Inputs\n",
    "`output/nb1_market_index_with_historical.feather`"
   ]
  },
  {
   "cell_type": "markdown",
   "metadata": {},
   "source": [
    "### Outputs\n",
    "`output/nb2_market_index_with_historical_and_features.feather`"
   ]
  },
  {
   "cell_type": "markdown",
   "metadata": {},
   "source": [
    "### Motes/comments"
   ]
  },
  {
   "cell_type": "markdown",
   "metadata": {},
   "source": [
    "---"
   ]
  },
  {
   "cell_type": "code",
   "execution_count": null,
   "metadata": {},
   "outputs": [],
   "source": [
    "import pandas as pd\n",
    "from ta.volatility import BollingerBands\n",
    "from ta.trend import MACD, SMAIndicator\n",
    "from ta.momentum import RSIIndicator\n"
   ]
  },
  {
   "cell_type": "markdown",
   "metadata": {},
   "source": [
    "### Load data"
   ]
  },
  {
   "cell_type": "code",
   "execution_count": null,
   "metadata": {},
   "outputs": [],
   "source": [
    "returns_df = pd.read_feather('../output/nb1_market_index_with_historical.feather')\n",
    "returns_df.head()"
   ]
  },
  {
   "cell_type": "markdown",
   "metadata": {},
   "source": [
    "### Feature engineering"
   ]
  },
  {
   "cell_type": "code",
   "execution_count": null,
   "metadata": {},
   "outputs": [],
   "source": [
    "# We’ll apply indicators to the Lithium_Index (avg weekly return)\n",
    "# Alternatively you can apply them to each ticker separately\n",
    "\n",
    "# Example: SMA and RSI on Lithium_Index\n",
    "sma = SMAIndicator(close=returns_df[\"Lithium_Index\"], window=4)\n",
    "rsi = RSIIndicator(close=returns_df[\"Lithium_Index\"], window=4)\n",
    "\n",
    "returns_df[\"SMA_4\"] = sma.sma_indicator()\n",
    "returns_df[\"RSI_4\"] = rsi.rsi()\n",
    "\n",
    "# MACD\n",
    "macd = MACD(close=returns_df[\"Lithium_Index\"])\n",
    "returns_df[\"MACD\"] = macd.macd()\n",
    "returns_df[\"MACD_Signal\"] = macd.macd_signal()\n",
    "\n",
    "# Bollinger Bands (for volatility)\n",
    "bb = BollingerBands(close=returns_df[\"Lithium_Index\"])\n",
    "returns_df[\"BB_High\"] = bb.bollinger_hband()\n",
    "returns_df[\"BB_Low\"] = bb.bollinger_lband()\n",
    "returns_df[\"BB_Width\"] = returns_df[\"BB_High\"] - returns_df[\"BB_Low\"]"
   ]
  },
  {
   "cell_type": "code",
   "execution_count": null,
   "metadata": {},
   "outputs": [],
   "source": [
    "returns_df.head()"
   ]
  },
  {
   "cell_type": "markdown",
   "metadata": {},
   "source": [
    "* Now the feature set includes:\n",
    "\t* Has_Event\n",
    "\t* SMA_4, RSI_4\n",
    "\t* MACD, MACD_Signal\n",
    "\t* BB_Width (volatility)\n",
    "\n",
    "*Possible - include returns of each individual stock too if necessary (later).*"
   ]
  },
  {
   "cell_type": "code",
   "execution_count": null,
   "metadata": {},
   "outputs": [],
   "source": [
    "returns_df.to_feather('../output/nb2_market_index_with_historical_and_features.feather')"
   ]
  },
  {
   "cell_type": "code",
   "execution_count": null,
   "metadata": {},
   "outputs": [],
   "source": [
    "returns_df.columns"
   ]
  },
  {
   "cell_type": "code",
   "execution_count": null,
   "metadata": {},
   "outputs": [],
   "source": [
    "type(returns_df.index)"
   ]
  },
  {
   "cell_type": "code",
   "execution_count": null,
   "metadata": {},
   "outputs": [],
   "source": []
  }
 ],
 "metadata": {
  "kernelspec": {
   "display_name": "venv",
   "language": "python",
   "name": "python3"
  },
  "language_info": {
   "codemirror_mode": {
    "name": "ipython",
    "version": 3
   },
   "file_extension": ".py",
   "mimetype": "text/x-python",
   "name": "python",
   "nbconvert_exporter": "python",
   "pygments_lexer": "ipython3",
   "version": "3.12.8"
  }
 },
 "nbformat": 4,
 "nbformat_minor": 2
}
