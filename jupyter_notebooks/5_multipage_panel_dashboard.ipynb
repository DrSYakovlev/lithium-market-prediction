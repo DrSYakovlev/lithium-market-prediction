{
 "cells": [
  {
   "cell_type": "markdown",
   "id": "0a379e04",
   "metadata": {},
   "source": [
    "# Muptipage Panel | Hvplot dashboard"
   ]
  },
  {
   "cell_type": "markdown",
   "id": "404c3d60",
   "metadata": {},
   "source": [
    "### Inputs\n",
    "```\n",
    "# Load dataset\n",
    "preprocessed_df = pd.read_feather('../output/nb2_market_index_with_historical_and_features.feather')\n",
    "\n",
    "# Load trained model\n",
    "model = joblib.load('../output/xgb_model.pkl')\n",
    "\n",
    "# Load fitted scaler\n",
    "scaler = joblib.load('../output/scaler.pkl')\n",
    "```"
   ]
  },
  {
   "cell_type": "markdown",
   "id": "211758bc",
   "metadata": {},
   "source": [
    "### Outputs\n",
    "Multipage dashboard"
   ]
  },
  {
   "cell_type": "markdown",
   "id": "0c727e40",
   "metadata": {},
   "source": [
    "### Notes / comments"
   ]
  },
  {
   "cell_type": "markdown",
   "id": "68d1e1a3",
   "metadata": {},
   "source": [
    "---"
   ]
  },
  {
   "cell_type": "code",
   "execution_count": null,
   "id": "18d32485",
   "metadata": {},
   "outputs": [],
   "source": [
    "# import modules\n",
    "import joblib\n",
    "import numpy as np\n",
    "import panel as pn\n",
    "import pandas as pd\n",
    "import hvplot.pandas\n",
    "import warnings\n",
    "from sklearn.metrics import confusion_matrix, classification_report"
   ]
  },
  {
   "cell_type": "code",
   "execution_count": null,
   "id": "f8d13bc9",
   "metadata": {},
   "outputs": [],
   "source": [
    "# set warnings\n",
    "warnings.filterwarnings('ignore')"
   ]
  },
  {
   "cell_type": "markdown",
   "id": "298caaf9",
   "metadata": {},
   "source": [
    "#### Prepare prediction"
   ]
  },
  {
   "cell_type": "code",
   "execution_count": null,
   "id": "d37856a0",
   "metadata": {},
   "outputs": [],
   "source": [
    "# Load dataset\n",
    "preprocessed_df = pd.read_feather('../output/nb2_market_index_with_historical_and_features.feather')\n",
    "\n",
    "# Load trained model\n",
    "model = joblib.load('../output/xgb_model.pkl')\n",
    "\n",
    "# Load fitted scaler\n",
    "scaler = joblib.load('../output/scaler.pkl')\n",
    "\n",
    "# Prepare the DataFrame\n",
    "model_df = preprocessed_df.dropna().copy().reset_index().rename(columns={\"index\": \"Date\"})\n",
    "model_df[\"Date\"] = pd.to_datetime(model_df[\"Date\"])\n",
    "\n",
    "# Define Features & Target\n",
    "feature_cols = [\"Has_Event\", \"SMA_4\", \"RSI_4\", \"MACD\", \"MACD_Signal\", \"BB_Width\"]\n",
    "X = model_df[feature_cols]\n",
    "y = model_df[\"Sentiment_Label\"]\n",
    "\n",
    "# Spllit dataset (time-wise)\n",
    "\n",
    "split_index = int(len(model_df) * 0.8)\n",
    "train_df = model_df.iloc[:split_index]\n",
    "test_df = model_df.iloc[split_index:]\n",
    "\n",
    "X_train = train_df[feature_cols]\n",
    "y_train = train_df[\"Sentiment_Label\"]\n",
    "X_test = test_df[feature_cols]\n",
    "y_test = test_df[\"Sentiment_Label\"]\n",
    "\n",
    "# Scaling X_test\n",
    "X_test_scaled = scaler.transform(X_test)\n",
    "\n",
    "# Predict on Test Set Only\n",
    "y_pred = model.predict(X_test_scaled)\n",
    "\n",
    "# Add Predictions to model_df (only for test part)\n",
    "model_df[\"Predicted_Label\"] = np.nan  # initialize with NaNs\n",
    "model_df.loc[split_index:, \"Predicted_Label\"] = y_pred\n",
    "\n",
    "# Predict probabilities (confidence that label is bullish)\n",
    "y_proba = model.predict_proba(X_test_scaled)[:, 1]  # Probability of class 1 (bullish)\n",
    "\n",
    "# Store in the test portion of model_df\n",
    "model_df.loc[split_index:, \"Confidence_Score\"] = y_proba\n",
    "\n",
    "# Mark correctness\n",
    "model_df[\"Correct\"] = np.nan\n",
    "model_df.loc[split_index:, \"Correct\"] = (\n",
    "    model_df.loc[split_index:, \"Predicted_Label\"] == model_df.loc[split_index:, \"Sentiment_Label\"]\n",
    ")"
   ]
  },
  {
   "cell_type": "markdown",
   "id": "8eb22fbe",
   "metadata": {},
   "source": [
    "#### Create charts"
   ]
  },
  {
   "cell_type": "code",
   "execution_count": null,
   "id": "a217a809",
   "metadata": {},
   "outputs": [],
   "source": [
    "# Here go functions for creating charts, graphs and diagrams\n",
    "# This is a placeholder"
   ]
  },
  {
   "cell_type": "markdown",
   "id": "7428b783",
   "metadata": {},
   "source": [
    "#### Widgets and Callbacks"
   ]
  },
  {
   "cell_type": "code",
   "execution_count": null,
   "id": "17edce33",
   "metadata": {},
   "outputs": [],
   "source": [
    "# Here go functions for creating widgets and corresponding callbacks\n",
    "# Source of icons: https://tabler-icons.io/"
   ]
  },
  {
   "cell_type": "code",
   "execution_count": null,
   "id": "2781e75f",
   "metadata": {},
   "outputs": [],
   "source": [
    "# Sidebar buttons\n",
    "button_1 = pn.widgets.Button(name=\"Predicted Sentiment\", button_type=\"primary\", button_style=\"outline\", icon=\"\", styles={'width': '90%'})\n",
    "button_2 = pn.widgets.Button(name=\"Info\", button_type=\"primary\", button_style=\"outline\", icon=\"\", styles={'width': '90%'})\n",
    "button_3 = pn.widgets.Button(name=\"Graphs\", button_type=\"primary\", button_style=\"outline\", icon=\"\", styles={'width': '90%'})\n",
    "button_4 = pn.widgets.Button(name=\"Model Performance\", button_type=\"primary\", button_style=\"outline\", icon=\"\", styles={'width': '90%'})"
   ]
  },
  {
   "cell_type": "code",
   "execution_count": null,
   "id": "dfb157d5",
   "metadata": {},
   "outputs": [],
   "source": [
    "# Select what to be shown on the graph, page_3\n",
    "# multi_select = pn.widgets.MultiSelect(name=\"Ingredients\", options=wine.feature_names, value=[\"alcohol\", \"malic_acid\", \"ash\"])"
   ]
  },
  {
   "cell_type": "code",
   "execution_count": null,
   "id": "a74554d4",
   "metadata": {},
   "outputs": [],
   "source": [
    "disclaimer = pn.pane.Markdown(\n",
    "        f\"\"\"\n",
    "\t##### <u>Disclaimer</u>: The information and predictions presented in this project are for educational and informational purposes only. They do not constitute investment advice, financial guidance, or a recommendation to buy or sell any securities. While efforts have been made to ensure the accuracy of the data and models used, no guarantee is provided regarding the reliability, completeness, or future performance of any predictions. Always conduct your own research and consult with a licensed financial advisor before making any investment decisions. The creators of this project are not responsible for any financial losses incurred as a result of using or relying on the content presented.\"\"\",\n",
    "\tsizing_mode=\"stretch_width\")"
   ]
  },
  {
   "cell_type": "code",
   "execution_count": null,
   "id": "25e64263",
   "metadata": {},
   "outputs": [],
   "source": [
    "# creating page content\n",
    "def create_page_1():\n",
    "    \"\"\"\n",
    "    shows current (live) lithium index sentiment\n",
    "    \"\"\"\n",
    "    # scaler = StandardScaler()\n",
    "    model = joblib.load('../output/xgb_model.pkl')\n",
    "    scaler = joblib.load('../output/scaler.pkl')\n",
    "    feature_cols = [\"Has_Event\", \"SMA_4\", \"RSI_4\", \"MACD\", \"MACD_Signal\", \"BB_Width\"]\n",
    "    preprocessed_df = pd.read_feather('../output/nb2_market_index_with_historical_and_features.feather')\n",
    "    X_next = preprocessed_df.dropna().copy().tail(1)[feature_cols]\n",
    "    X_next_scaled = scaler.transform(X_next)\n",
    "    next_label = model.predict(X_next_scaled)[0]\n",
    "    next_proba = model.predict_proba(X_next_scaled)[0][1]\n",
    "    label_str = \"📈 Bullish\" if next_label == 1 else \"📉 Bearish\"\n",
    "    confidence_str = f\"{next_proba:.2%}\"\n",
    "    forecast_card = pn.pane.Markdown(\n",
    "    f\"\"\"\n",
    "\t### 🔮 **Next Week Forecast**\n",
    "\t- **Sentiment:** {label_str}\n",
    "\t- **Confidence (of being Bullish):** {confidence_str}\n",
    "\t\"\"\",\n",
    "    sizing_mode=\"stretch_width\")\n",
    "    \n",
    "    hr = pn.pane.Markdown(\"<hr>\", sizing_mode=\"stretch_width\")\n",
    "        \n",
    "    return pn.Column(\n",
    "        pn.pane.Markdown(\"## 🔋Next week predicted Li sentiment\"),\n",
    "        forecast_card,\n",
    "        hr,\n",
    "        disclaimer,\n",
    "        align=\"center\")\n",
    "\n",
    "\n",
    "def create_page_2():\n",
    "    \"\"\"\n",
    "    shows information about the project\n",
    "    \"\"\"\n",
    "    info_card = pn.pane.Markdown(\n",
    "    f\"\"\"\n",
    "\t- The **App** predicts if the next week lithium index market sentiment is **bullish** or **bearish**\n",
    "\t- Prediction is made using trained XGBoost classifier\n",
    "\t- Training dataset combines:\n",
    "\t\t- Historical market data from [yfinance](https://pypi.org/project/yfinance/) (calculated lithium index)\n",
    "\t\t- Features engineered using technical analysis\n",
    "\t\t- Library of influential hystorical events (Li-battery-specific)\n",
    "\t\"\"\",\n",
    "    sizing_mode=\"stretch_width\")\n",
    "            \n",
    "    return pn.Column(\n",
    "        pn.pane.Markdown(\"## About the project\", sizing_mode=\"stretch_width\"),\n",
    "        pn.pane.Markdown(\"MVP - dashboard showing model applicability\", sizing_mode=\"stretch_width\"),\n",
    "        pn.pane.Markdown(\"[Project repo](https://github.com/DrSYakovlev/lithium-market-prediction)\"),\n",
    "        info_card,\n",
    "        disclaimer,\n",
    "        align=\"center\")\n",
    "\n",
    "\n",
    "def create_page_3():\n",
    "    \"\"\"\n",
    "    shows time series graph\n",
    "    \"\"\"\n",
    "    preprocessed_df = pd.read_feather('../output/nb2_market_index_with_historical_and_features.feather')\n",
    "    date_slider = pn.widgets.DateRangeSlider(\n",
    "        name='Date Range',\n",
    "        start=preprocessed_df.index.min(),\n",
    "        end=preprocessed_df.index.max(),\n",
    "        value=(preprocessed_df.index.min(),\n",
    "               preprocessed_df.index.max()))\n",
    "    \n",
    "    # Interactive plot\n",
    "    @pn.depends(date_slider.param.value)\n",
    "    def sentiment_plot(date_range):\n",
    "        start = pd.to_datetime(date_range[0])\n",
    "        end = pd.to_datetime(date_range[1])\n",
    "        df = model_df[(model_df[\"Date\"] >= start) & (model_df[\"Date\"] <= end)]\n",
    "        # Base line plot\n",
    "        plot = df.hvplot.line(x=\"Date\", y=\"Lithium_Market_Index\", label=\"Lithium Index\", line_width=2, color=\"dodgerblue\")\n",
    "        \n",
    "        # Actual sentiment markers\n",
    "        bull = df[df[\"Sentiment_Label\"] == 1].hvplot.scatter(x=\"Date\", y=\"Lithium_Market_Index\", color=\"green\", size=40, marker=\"^\", label=\"Bullish\")\n",
    "        bear = df[df[\"Sentiment_Label\"] == 0].hvplot.scatter(x=\"Date\", y=\"Lithium_Market_Index\", color=\"red\", size=40, marker=\"v\", label=\"Bearish\")\n",
    "        \n",
    "        # Predicted bullish markers (only in test portion)\n",
    "        pred_bull = df[df[\"Predicted_Label\"] == 1].hvplot.scatter(x=\"Date\", y=\"Lithium_Market_Index\", color=\"blue\", marker=\"*\", size=100, label=\"Predicted Bullish\")\n",
    "        \n",
    "        # Incorrect predictions (predicted bullish, actually bearish)\n",
    "        incorrect = df[(df[\"Predicted_Label\"] == 1) & (df[\"Correct\"] == False)].hvplot.scatter(x=\"Date\", y=\"Lithium_Market_Index\", color=\"yellow\", marker=\"x\", size=100, label=\"Incorrect Prediction\")\n",
    "        return plot * bull * bear * pred_bull * incorrect\n",
    "    \n",
    "    \n",
    "    return pn.Column(\n",
    "        pn.pane.Markdown(\"## Explore sentiment predictions by the model\"),\n",
    "        date_slider,\n",
    "        sentiment_plot,\n",
    "        pn.pane.Markdown('<hr>', sizing_mode=\"stretch_width\"),\n",
    "        disclaimer,\n",
    "        align=\"center\")\n",
    "\n",
    "\n",
    "def create_page_4():\n",
    "    \"\"\"\n",
    "    shows model performance\n",
    "    \"\"\"\n",
    "    # Calculate confusion matrix on test set\n",
    "    conf_mat = confusion_matrix(y_test, y_pred, labels=[0, 1])\n",
    "    \n",
    "    # Convert to long format\n",
    "    cm_long = pd.DataFrame(conf_mat, index=[\"Actual Bearish\", \"Actual Bullish\"], columns=[\"Predicted Bearish\", \"Predicted Bullish\"])\n",
    "    cm_long = cm_long.reset_index().melt(id_vars=\"index\", var_name=\"Predicted\", value_name=\"Count\")\n",
    "    cm_long = cm_long.rename(columns={\"index\": \"Actual\"})\n",
    "    \n",
    "    cm_plot = cm_long.hvplot.heatmap(\n",
    "        x='Predicted',\n",
    "        y='Actual',\n",
    "        C='Count',\n",
    "        cmap='Blues',\n",
    "        line_color='white',\n",
    "        # title='Confusion Matrix (Test Set)',\n",
    "        colorbar=True,\n",
    "        height=300, width=450)\n",
    "    \n",
    "    # Precision / Recall / f1\n",
    "    report_dict = classification_report(y_test, y_pred, target_names=[\"Bear\", \"Bull\"], output_dict=True)\n",
    "    # Convert it to a DataFrame and melt it into long form\n",
    "    report_df = pd.DataFrame(report_dict).T.iloc[:2]  # Only Bearish & Bullish\n",
    "    report_df['Class'] = report_df.index\n",
    "    report_long = report_df.melt(\n",
    "        id_vars=\"Class\",\n",
    "        value_vars=[\"precision\", \"recall\", \"f1-score\"],\n",
    "        var_name=\"Metric\",\n",
    "        value_name=\"Score\")\n",
    "    \n",
    "    report_bar = report_long.hvplot.bar(\n",
    "        x=\"Metric\",\n",
    "        y=\"Score\",\n",
    "        by=\"Class\",\n",
    "        rot=0,\n",
    "        ylabel=\"Score\",\n",
    "        xlabel=\"Metric\",\n",
    "        # title=\"Model Performance Metrics (Test Set)\",\n",
    "        height=350,\n",
    "        width=600,\n",
    "        legend='top_right',\n",
    "        color=['#1f77b4', '#ff7f0e'])    \n",
    "        \n",
    "    return pn.Column(\n",
    "        pn.pane.Markdown(\"## Model performance\"),\n",
    "        pn.pane.Markdown(\"### 🧠 Confusion matrix (test set)\"),\n",
    "        cm_plot,\n",
    "        pn.pane.Markdown('<hr>', sizing_mode=\"stretch_width\"),\n",
    "        pn.pane.Markdown(\"### 📊 Precision / Recall / F1-Score\"),\n",
    "        report_bar,\n",
    "        pn.pane.Markdown('<hr>', sizing_mode=\"stretch_width\"),\n",
    "        disclaimer,\n",
    "        align=\"center\")\n"
   ]
  },
  {
   "cell_type": "markdown",
   "id": "f209ea1c",
   "metadata": {},
   "source": [
    "#### Buttons - calling (switching between) pages"
   ]
  },
  {
   "cell_type": "code",
   "execution_count": null,
   "id": "ce6216d2",
   "metadata": {},
   "outputs": [],
   "source": [
    "# Page mapping to functions\n",
    "mapping = {\n",
    "    \"Page1\": create_page_1(),\n",
    "    \"Page2\": create_page_2(),\n",
    "    \"Page3\": create_page_3(),\n",
    "    \"Page4\": create_page_4()\n",
    "}\n"
   ]
  },
  {
   "cell_type": "code",
   "execution_count": null,
   "id": "2dfbea95",
   "metadata": {},
   "outputs": [],
   "source": [
    "# main area\n",
    "main_area = pn.Column(mapping[\"Page1\"], styles={\"width\":\"100%\"})"
   ]
  },
  {
   "cell_type": "code",
   "execution_count": null,
   "id": "675919b0",
   "metadata": {},
   "outputs": [],
   "source": [
    "def show_page(page_key):\n",
    "    \"\"\"\n",
    "    callback function for all buttons\n",
    "    \"\"\"\n",
    "    main_area.clear()  # It will clear the main area each time function is called\n",
    "    main_area.append(mapping[page_key])  # and the new page will be appended\n"
   ]
  },
  {
   "cell_type": "code",
   "execution_count": null,
   "id": "3232953b",
   "metadata": {},
   "outputs": [],
   "source": [
    "# calling actions when buttons is clicked\n",
    "button_1.on_click(lambda event: show_page(\"Page1\"))\n",
    "button_2.on_click(lambda event: show_page(\"Page2\"))\n",
    "button_3.on_click(lambda event: show_page(\"Page3\"))\n",
    "button_4.on_click(lambda event: show_page(\"Page4\"))\n"
   ]
  },
  {
   "cell_type": "markdown",
   "id": "856a8230",
   "metadata": {},
   "source": [
    "#### Layout"
   ]
  },
  {
   "cell_type": "code",
   "execution_count": null,
   "id": "fba1d04e",
   "metadata": {},
   "outputs": [],
   "source": [
    "# sidebar\n",
    "sidebar = pn.Column(pn.pane.Markdown(\"## Pages\"), button_1, button_2, button_3, button_4,\n",
    "\t\t\t\t\tstyles={\"width\": \"100%\", \"padding\": \"15px\"})"
   ]
  },
  {
   "cell_type": "markdown",
   "id": "eaf3301b",
   "metadata": {},
   "source": [
    "#### App layout"
   ]
  },
  {
   "cell_type": "code",
   "execution_count": null,
   "id": "ba8515d5",
   "metadata": {},
   "outputs": [],
   "source": [
    "# App layout\n",
    "template = pn.template.BootstrapTemplate(\n",
    "    title=\"Lithium Market Sentiment Dashboard\",\n",
    "    sidebar=[sidebar],\n",
    "    main=[main_area],\n",
    "    header_background=\"black\", \n",
    "    # site=\"CoderzColumn\", logo=\"cc.png\",\n",
    "    theme=pn.template.DarkTheme,\n",
    "    sidebar_width=250, ## Default is 330\n",
    "    busy_indicator=None,\n",
    ")"
   ]
  },
  {
   "cell_type": "markdown",
   "id": "2d0bb4e6",
   "metadata": {},
   "source": [
    "#### Run app locally"
   ]
  },
  {
   "cell_type": "code",
   "execution_count": null,
   "id": "f44022fc",
   "metadata": {},
   "outputs": [],
   "source": [
    "template.show()"
   ]
  },
  {
   "cell_type": "code",
   "execution_count": null,
   "id": "0838f630",
   "metadata": {},
   "outputs": [],
   "source": []
  }
 ],
 "metadata": {
  "kernelspec": {
   "display_name": "venv",
   "language": "python",
   "name": "python3"
  },
  "language_info": {
   "codemirror_mode": {
    "name": "ipython",
    "version": 3
   },
   "file_extension": ".py",
   "mimetype": "text/x-python",
   "name": "python",
   "nbconvert_exporter": "python",
   "pygments_lexer": "ipython3",
   "version": "3.12.8"
  }
 },
 "nbformat": 4,
 "nbformat_minor": 5
}
